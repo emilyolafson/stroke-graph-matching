{
 "cells": [
  {
   "cell_type": "code",
   "execution_count": 1,
   "metadata": {},
   "outputs": [],
   "source": [
    "import numpy as np\n",
    "import os\n",
    "import scipy.io as sio\n",
    "from scipy.optimize import linear_sum_assignment\n",
    "from scipy.spatial import distance\n",
    "from matplotlib import pyplot as plt\n",
    "#from nilearn import plotting"
   ]
  },
  {
   "cell_type": "code",
   "execution_count": 6,
   "metadata": {},
   "outputs": [],
   "source": [
    "cwd = os.getcwd()\n",
    "cwd='/Users/emilyolafson/GIT/stroke-graph-matching/cast_data'\n",
    "#unpack_precision_mats(cwd) # create single subject precision FC matrices\n",
    "# At this point, run merge_precision_mats.m to create separate matrices based on"
   ]
  },
  {
   "cell_type": "code",
   "execution_count": 7,
   "metadata": {},
   "outputs": [
    {
     "name": "stdout",
     "output_type": "stream",
     "text": [
      "sub0\n",
      "interval[0, 7]\n",
      "sub1\n",
      "interval[0, 7]\n",
      "sub2\n",
      "interval[0, 7]\n",
      "sub0\n",
      "interval[1, 8]\n",
      "skipped\n",
      "sub1\n",
      "interval[1, 8]\n",
      "sub2\n",
      "interval[1, 8]\n",
      "sub0\n",
      "interval[2, 9]\n",
      "skipped\n",
      "sub1\n",
      "interval[2, 9]\n",
      "sub2\n",
      "interval[2, 9]\n",
      "sub0\n",
      "interval[3, 10]\n",
      "skipped\n",
      "sub1\n",
      "interval[3, 10]\n",
      "sub2\n",
      "interval[3, 10]\n",
      "sub0\n",
      "interval[4, 11]\n",
      "skipped\n",
      "sub1\n",
      "interval[4, 11]\n",
      "sub2\n",
      "interval[4, 11]\n",
      "sub0\n",
      "interval[5, 12]\n",
      "skipped\n",
      "sub1\n",
      "interval[5, 12]\n",
      "sub2\n",
      "interval[5, 12]\n",
      "sub0\n",
      "interval[6, 13]\n",
      "skipped\n",
      "sub1\n",
      "interval[6, 13]\n",
      "sub2\n",
      "interval[6, 13]\n"
     ]
    }
   ],
   "source": [
    "costmat = calculate_cost(fc1, fc2)\n",
    "permutations, = graph_matching(costmat)"
   ]
  },
  {
   "cell_type": "code",
   "execution_count": 3,
   "metadata": {},
   "outputs": [],
   "source": [
    "def calculate_cost(fc1, fc2):\n",
    "    \"\"\"Cost function: the cost of remapping each node in matrix A (fc1) to every other node in matrix B (fc2). \n",
    "        Output is fed into graph matching algorithm\"\"\"\n",
    "\n",
    "    # number of brain regions\n",
    "    nROIs=fc1.shape[0]\n",
    "\n",
    "    # initialize empty matrix\n",
    "    costmat=np.zeros((nROIs,nROIs))\n",
    "\n",
    "    for x in range(0,nROIs): #x = time point 1.\n",
    "        a=fc1[x]\n",
    "\n",
    "        for y in range(0,nROIs): #y = time point 2.\n",
    "            b=fc2[y]\n",
    "\n",
    "            # cost to assign node x in fc1 to node y in fc2.\n",
    "            costmat[x,y]=distance.euclidean(a,b)   \n",
    "        \n",
    "    return costmat\n",
    "\n",
    "def graph_matching(costmat, nROIs):\n",
    "    \"\"\"Runs graph matching w/ the Hungarian algorithm\n",
    "    \n",
    "        Returns:\n",
    "\n",
    "        permutations - vector of integers corresponding to the indices of the nodes to which every node has been assigned.\n",
    "\n",
    "        roiswapped - binary vector of size 1xnROIs that contains a 1 if a node has been assigned to a different node (i.e., was swapped)\n",
    "    \n",
    "    \"\"\"\n",
    "    nROIs=costmat.shape[0]\n",
    "    \n",
    "    rows=np.zeros((nsubs,nROIs))\n",
    "    cols=np.zeros((nsubs,nROIs))\n",
    "    roichanges=np.zeros((nsubs,nROIs))\n",
    "    truecols=range(0,nROIs)\n",
    "\n",
    "    rowind, colind=linear_sum_assignment(costmat) #graph matching part.\n",
    "\n",
    "    permutations = np.concatente([rowind, colind])\n",
    "\n",
    "    for i in range(0,nROIs):\n",
    "        if colind[i]!=rowind[i]:\n",
    "            roichanges[i]=1 #indices that are switched\n",
    "\n",
    "    return permutations, roichanges"
   ]
  }
 ],
 "metadata": {
  "kernelspec": {
   "display_name": "Python 3",
   "language": "python",
   "name": "python3"
  },
  "language_info": {
   "codemirror_mode": {
    "name": "ipython",
    "version": 3
   },
   "file_extension": ".py",
   "mimetype": "text/x-python",
   "name": "python",
   "nbconvert_exporter": "python",
   "pygments_lexer": "ipython3",
   "version": "3.8.10"
  }
 },
 "nbformat": 4,
 "nbformat_minor": 4
}
