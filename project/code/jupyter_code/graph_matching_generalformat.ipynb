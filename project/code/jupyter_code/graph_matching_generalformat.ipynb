{
 "cells": [
  {
   "cell_type": "code",
   "execution_count": 2,
   "metadata": {},
   "outputs": [],
   "source": [
    "import numpy as np\n",
    "import os\n",
    "import scipy.io as sio\n",
    "from scipy.optimize import linear_sum_assignment\n",
    "from scipy.spatial import distance\n",
    "from matplotlib import pyplot as plt\n",
    "#from nilearn import plotting"
   ]
  },
  {
   "cell_type": "code",
   "execution_count": 63,
   "metadata": {},
   "outputs": [],
   "source": [
    "costmat = calculate_cost(fc1, fc2)\n",
    "permutations, roichanges = graph_matching(costmat)"
   ]
  },
  {
   "cell_type": "code",
   "execution_count": 62,
   "metadata": {},
   "outputs": [],
   "source": [
    "def calculate_cost(fc1, fc2):\n",
    "    \"\"\"Cost function: the cost of remapping each node in matrix A (fc1) to every other node in matrix B (fc2). \n",
    "        Output is fed into graph matching algorithm\n",
    "        \n",
    "        fc1 - FC matrix of the form nROIs x nROIs\n",
    "        fc2 - \"\" \n",
    "        \"\"\"\n",
    "\n",
    "    # number of brain regions\n",
    "    nROIs=fc1.shape[0]\n",
    "\n",
    "    # initialize empty matrix\n",
    "    costmat=np.zeros((nROIs,nROIs))\n",
    "\n",
    "    for x in range(0,nROIs): #x = time point 1.\n",
    "        a=fc1[x]\n",
    "\n",
    "        for y in range(0,nROIs): #y = time point 2.\n",
    "            b=fc2[y]\n",
    "\n",
    "            # cost to assign node x in fc1 to node y in fc2.\n",
    "            costmat[x,y]=distance.euclidean(a,b)   \n",
    "        \n",
    "    return costmat\n",
    "\n",
    "def graph_matching(costmat):\n",
    "    \"\"\"Runs graph matching w/ the Hungarian algorithm\n",
    "    \n",
    "        Returns:\n",
    "\n",
    "        permutations - vector of integers corresponding to the indices of the nodes to which every node has been assigned. (starts with 0)\n",
    "\n",
    "        roiswapped - binary vector of size 1xnROIs that contains a 1 if a node has been assigned to a different node (i.e., was swapped)\n",
    "    \n",
    "    \"\"\"\n",
    "    nROIs=costmat.shape[0]\n",
    "    rowind, colind=linear_sum_assignment(costmat) #graph matching part.\n",
    "\n",
    "    permutations = np.array([rowind, colind])\n",
    "    \n",
    "    roichanges=np.zeros((nROIs,1))\n",
    "    for i in range(0,nROIs):\n",
    "        if colind[i]!=rowind[i]:\n",
    "            roichanges[i]=1 #indices that are switched\n",
    "\n",
    "    return permutations, roichanges"
   ]
  }
 ],
 "metadata": {
  "kernelspec": {
   "display_name": "Python 3",
   "language": "python",
   "name": "python3"
  },
  "language_info": {
   "codemirror_mode": {
    "name": "ipython",
    "version": 3
   },
   "file_extension": ".py",
   "mimetype": "text/x-python",
   "name": "python",
   "nbconvert_exporter": "python",
   "pygments_lexer": "ipython3",
   "version": "3.8.10"
  }
 },
 "nbformat": 4,
 "nbformat_minor": 4
}
