{
 "cells": [
  {
   "cell_type": "code",
   "execution_count": 1,
   "metadata": {},
   "outputs": [],
   "source": [
    "# adapted from Zijin Gu: https://github.com/zijin-gu/scfc-coupling\n",
    "    \"\"\"This code takes as input each subject's covariance matrix saved to a .mat file as a variable 'C', and a list\n",
    "    of these matfiles (e.g. from $ 'ls' > subjects.txt).\n",
    "    The output is a .mat file with all subjects' precision FC matrices (C) in the format k*n*n where k = num subjects and n = number of ROIs\n",
    "    as well as a measure of the RMSE for each gamma tested (rmse), and the optimal (opt_gamma)\"\"\"\n",
    "\n",
    "import sys\n",
    "import scipy.io as sio\n",
    "import numpy as np\n",
    "import os\n",
    "import matplotlib.pyplot as plt\n",
    "from matplotlib.pyplot import figure\n",
    "\n",
    "cwd = os.getcwd()\n",
    "data_dir = '/Users/emilyolafson/GIT/stroke-graph-matching/data'\n",
    "roi_number = 268\n",
    "\n",
    "def extract_fc_corr():\n",
    "    fc_dir = data_dir +'/pearson_fc/'\n",
    "    subj_all = np.genfromtxt(fc_dir + 'subjects.txt', dtype = 'str')\n",
    "    fc_corr = np.zeros([subj_all.shape[0],roi_number,roi_number])\n",
    "    n = 0\n",
    "    for subj in subj_all:\n",
    "        fccov = sio.loadmat(fc_dir + str(subj))\n",
    "        fc_corr[n] = fccov['C']\n",
    "        n += 1\n",
    "    mdic = {\"C\": fc_corr}\n",
    "    sio.savemat(str(data_dir + '/pearson_fc/FCcorr_concat_allsub.mat'), mdic)\n",
    "\n",
    "def extract_fc_prec():\n",
    "    fc_dir =data_dir + '/covariance/'\n",
    "    subj_all = np.genfromtxt(fc_dir + 'subjects.txt', dtype = 'str')\n",
    "    fc_corr = np.zeros([subj_all.shape[0],roi_number,roi_number])\n",
    "    n = 0\n",
    "    trace=[]\n",
    "    norm=[]\n",
    "    for subj in subj_all:\n",
    "        fccov = sio.loadmat(fc_dir + str(subj))\n",
    "        fc_corr[n] = fccov['C'] # need to use covariance\n",
    "        n = n+1\n",
    "        \n",
    "    # regularized precision calculation\n",
    "    min_rmse = 1e5\n",
    "    opt_gamma = 0\n",
    "    allrmse=[]\n",
    "    \n",
    "    for gamma in np.linspace(0, 1,50): #for all gamma values\n",
    "        inverse = []\n",
    "        reg_inv = []\n",
    "        \n",
    "        for i in range(subj_all.shape[0]): #calculate the unregularized inverse and regularized inverse for a given gamma\n",
    "            np.fill_diagonal(fc_corr[i],1)\n",
    "\n",
    "            inverse.append(np.linalg.inv(fc_corr[i]))\n",
    "            reg_inv.append(np.linalg.inv(fc_corr[i] + gamma*np.eye(roi_number)))\n",
    "\n",
    "        group_prec = np.mean(inverse, axis=0) #calculate the mean unregularized inverse across subjects\n",
    "        \n",
    "        diff = []\n",
    "\n",
    "        # for each subject, calculate the difference between the regularized inverse and group average unregularized inverse.\n",
    "        for i in range(subj_all.shape[0]):\n",
    "            diff.append(np.linalg.norm(reg_inv[i][np.triu_indices(roi_number,1)] - group_prec[np.triu_indices(roi_number,1)]))\n",
    "        rmse = np.mean(diff) #mean difference across subjects\n",
    "        allrmse.append(rmse)\n",
    "\n",
    "        if rmse < min_rmse:\n",
    "            min_rmse = rmse\n",
    "            opt_gamma = gamma \n",
    "            \n",
    "\n",
    "    fc_prec = np.zeros([subj_all.shape[0],roi_number,roi_number])\n",
    "    \n",
    "    #now calculate regularized inversion matrices based on optimal gamma (should be lambda).\n",
    "    for i in range(subj_all.shape[0]):\n",
    "        fc_prec[i] = np.linalg.inv(fc_corr[i] + opt_gamma*np.eye(roi_number))\n",
    "\n",
    "    mdic = {\"C\": fc_prec, \"gamma\": opt_gamma, \"rmse\":allrmse, \"sub_sessID\": subj_all}\n",
    "    output_dir =data_dir + '/controls/precision/'\n",
    "\n",
    "    sio.savemat(output_dir + 'FCprec_concat_allsub.mat', mdic)\n",
    "    \n",
    "for sess in range(0,1):\n",
    "    extract_fc_prec()\n",
    "    \n",
    "    "
   ]
  },
  {
   "cell_type": "code",
   "execution_count": 4,
   "metadata": {},
   "outputs": [],
   "source": [
    "cwd = os.getcwd()\n",
    "data_dir = '/Users/emilyolafson/GIT/stroke-graph-matching/data'\n",
    "fc_dir =data_dir + '/controls/precision/'\n",
    "output_prec = sio.loadmat(fc_dir + 'FCprec_concat_allsub.mat')\n",
    "rmse = output_prec['rmse'] \n",
    "opt_gamma = output_prec['gamma'] \n",
    "gridsearch=np.linspace(0,1,50)\n",
    "\n",
    "figure(num=None, figsize=(6, 6), dpi=200, facecolor='w', edgecolor='k')\n",
    "\n",
    "plt.plot(gridsearch,rmse.transpose())\n",
    "plt.ylabel('RMSE')\n",
    "plt.xlabel('Lambda')\n",
    "plt.title('RMSE vs regularization parameter (lambda)')\n",
    "plt.text(opt_gamma-0.3, 0.5, 'optimal lambda = ' + str(round(opt_gamma[0][0],3)))\n",
    "results_dir = '/Users/emilyolafson/GIT/stroke-graph-matching/apaper/figs/'\n",
    "plt.savefig(results_dir + 'optimal_gamma_ctrl.png')"
   ]
  },
  {
   "cell_type": "code",
   "execution_count": 5,
   "metadata": {},
   "outputs": [
    {
     "data": {
      "text/plain": [
       "array([[0.71428571]])"
      ]
     },
     "execution_count": 5,
     "metadata": {},
     "output_type": "execute_result"
    }
   ],
   "source": [
    "opt_gamma"
   ]
  }
 ],
 "metadata": {
  "kernelspec": {
   "display_name": "Python 3",
   "language": "python",
   "name": "python3"
  },
  "language_info": {
   "codemirror_mode": {
    "name": "ipython",
    "version": 3
   },
   "file_extension": ".py",
   "mimetype": "text/x-python",
   "name": "python",
   "nbconvert_exporter": "python",
   "pygments_lexer": "ipython3",
   "version": "3.9.2"
  }
 },
 "nbformat": 4,
 "nbformat_minor": 4
}
