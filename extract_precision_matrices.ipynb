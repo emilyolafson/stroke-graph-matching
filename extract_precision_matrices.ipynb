{
 "cells": [
  {
   "cell_type": "code",
   "execution_count": 35,
   "metadata": {},
   "outputs": [
    {
     "name": "stdout",
     "output_type": "stream",
     "text": [
      "229\n",
      "229\n",
      "229\n",
      "229\n",
      "229\n"
     ]
    }
   ],
   "source": [
    "# adapted from Zijin Gu: https://github.com/zijin-gu/scfc-coupling\n",
    "import scipy.io as sio\n",
    "import numpy as np\n",
    "import os\n",
    "\n",
    "cwd = os.getcwd()\n",
    "data_dir = str(cwd)\n",
    "roi_number = 268\n",
    "\n",
    "def extract_fc_corr(session):\n",
    "    fc_dir = data_dir +'/pearson_fc/'\n",
    "    subj_all = np.genfromtxt(fc_dir + 'subjects.txt', dtype = 'str')\n",
    "    fc_corr = np.zeros([subj_all.shape[0],roi_number,roi_number])\n",
    "    n = 0\n",
    "    for subj in subj_all:\n",
    "        fccov = sio.loadmat(fc_dir + str(subj))\n",
    "        fc_corr[n] = fccov['C']\n",
    "        n += 1\n",
    "    mdic = {\"C\": fc_corr}\n",
    "    sio.savemat(strcat(data_dir + 'FCcorr_concat_allsub.mat'), mdic)\n",
    "\n",
    "def extract_fc_prec():\n",
    "    fc_dir =data_dir + '/covariance/'\n",
    "    subj_all = np.genfromtxt(fc_dir + 'subjects.txt', dtype = 'str')\n",
    "    fc_corr = np.zeros([subj_all.shape[0],roi_number,roi_number])\n",
    "    n = 0\n",
    "    for subj in subj_all:\n",
    "        fccov = sio.loadmat(fc_dir + str(subj))\n",
    "        fc_corr[n] = fccov['C'] # need to use normalized correlation (covariance)\n",
    "        n += 1\n",
    "\n",
    "    # regularized precision calculation\n",
    "    min_rmse = 1e5\n",
    "    opt_gamma = 0\n",
    "    allrmse=[]\n",
    "    for gamma in np.linspace(0,1,51):\n",
    "        inverse = []\n",
    "        reg_inv = []\n",
    "        for i in range(subj_all.shape[0]):\n",
    "            np.fill_diagonal(fc_corr[i],1)\n",
    "            inverse.append(np.linalg.inv(fc_corr[i]))\n",
    "            reg_inv.append(np.linalg.inv(fc_corr[i] + gamma*np.eye(roi_number)))\n",
    "        group_prec = np.mean(inverse, axis=0)\n",
    "        diff = []\n",
    "        for i in range(subj_all.shape[0]):\n",
    "            diff.append(np.linalg.norm(reg_inv[i][np.triu_indices(roi_number,1)] - group_prec[np.triu_indices(roi_number,1)]))\n",
    "        rmse = np.mean(diff)\n",
    "        allrmse.append(rmse)\n",
    "        if rmse < min_rmse:\n",
    "            min_rmse = rmse\n",
    "            opt_gamma = gamma\n",
    "\n",
    "    fc_prec = np.zeros([subj_all.shape[0],roi_number,roi_number])\n",
    "    for i in range(subj_all.shape[0]):\n",
    "        fc_prec[i] = np.linalg.inv(fc_corr[i] + opt_gamma*np.eye(roi_number))\n",
    "\n",
    "    mdic = {\"C\": fc_prec, \"gamma\": opt_gamma, \"rmse\":allrmse}\n",
    "    sio.savemat(fc_dir + 'FCprec_concat_allsub.mat', mdic)\n",
    "\n",
    "for sess in range(0,5):\n",
    "    extract_fc_prec()\n",
    "    extract_fc_corr()"
   ]
  },
  {
   "cell_type": "code",
   "execution_count": 49,
   "metadata": {},
   "outputs": [
    {
     "data": {
      "text/plain": [
       "Text(0.5, 1.0, 'Grid search for optimal regularization parameter (gamma)')"
      ]
     },
     "execution_count": 49,
     "metadata": {},
     "output_type": "execute_result"
    },
    {
     "data": {
      "image/png": "[encoded data removed]",
      "text/plain": [
       "<Figure size 432x288 with 1 Axes>"
      ]
     },
     "metadata": {
      "needs_background": "light"
     },
     "output_type": "display_data"
    }
   ],
   "source": [
    "import matplotlib.pyplot as plt\n",
    "\n",
    "cwd = os.getcwd()\n",
    "data_dir = str(cwd)\n",
    "fc_dir =data_dir + '/covariance/'\n",
    "output_prec = sio.loadmat(fc_dir + 'FCprec_concat_allsub.mat')\n",
    "rmse = output_prec['rmse'] # need to use normalized correlation (covariance)\n",
    "gridsearch=np.linspace(0,1,51)\n",
    "\n",
    "plt.plot(gridsearch,rmse.transpose())\n",
    "plt.ylabel('RMSE')\n",
    "plt.xlabel('Gamma')\n",
    "plt.title('Regularization parameter (gamma)')"
   ]
  },
  {
   "cell_type": "code",
   "execution_count": null,
   "metadata": {},
   "outputs": [],
   "source": []
  },
  {
   "cell_type": "code",
   "execution_count": null,
   "metadata": {},
   "outputs": [],
   "source": []
  },
  {
   "cell_type": "code",
   "execution_count": null,
   "metadata": {},
   "outputs": [],
   "source": []
  },
  {
   "cell_type": "code",
   "execution_count": null,
   "metadata": {},
   "outputs": [],
   "source": []
  },
  {
   "cell_type": "code",
   "execution_count": null,
   "metadata": {},
   "outputs": [],
   "source": []
  },
  {
   "cell_type": "code",
   "execution_count": null,
   "metadata": {},
   "outputs": [],
   "source": []
  },
  {
   "cell_type": "code",
   "execution_count": null,
   "metadata": {},
   "outputs": [],
   "source": []
  },
  {
   "cell_type": "code",
   "execution_count": null,
   "metadata": {},
   "outputs": [],
   "source": []
  },
  {
   "cell_type": "code",
   "execution_count": null,
   "metadata": {},
   "outputs": [],
   "source": []
  },
  {
   "cell_type": "code",
   "execution_count": null,
   "metadata": {},
   "outputs": [],
   "source": []
  },
  {
   "cell_type": "code",
   "execution_count": null,
   "metadata": {},
   "outputs": [],
   "source": []
  },
  {
   "cell_type": "code",
   "execution_count": null,
   "metadata": {},
   "outputs": [],
   "source": []
  },
  {
   "cell_type": "code",
   "execution_count": null,
   "metadata": {},
   "outputs": [],
   "source": []
  },
  {
   "cell_type": "code",
   "execution_count": null,
   "metadata": {},
   "outputs": [],
   "source": []
  },
  {
   "cell_type": "code",
   "execution_count": null,
   "metadata": {},
   "outputs": [],
   "source": []
  },
  {
   "cell_type": "code",
   "execution_count": null,
   "metadata": {},
   "outputs": [],
   "source": []
  },
  {
   "cell_type": "code",
   "execution_count": null,
   "metadata": {},
   "outputs": [],
   "source": []
  },
  {
   "cell_type": "code",
   "execution_count": null,
   "metadata": {},
   "outputs": [],
   "source": []
  },
  {
   "cell_type": "code",
   "execution_count": null,
   "metadata": {},
   "outputs": [],
   "source": []
  },
  {
   "cell_type": "code",
   "execution_count": 29,
   "metadata": {},
   "outputs": [
    {
     "name": "stdout",
     "output_type": "stream",
     "text": [
      "[0.   0.02 0.04 0.06 0.08 0.1  0.12 0.14 0.16 0.18 0.2  0.22 0.24 0.26\n",
      " 0.28 0.3  0.32 0.34 0.36 0.38 0.4  0.42 0.44 0.46 0.48 0.5  0.52 0.54\n",
      " 0.56 0.58 0.6  0.62 0.64 0.66 0.68 0.7  0.72 0.74 0.76 0.78 0.8  0.82\n",
      " 0.84 0.86 0.88 0.9  0.92 0.94 0.96 0.98 1.  ]\n"
     ]
    }
   ],
   "source": [
    "print(np.linspace(0,1,51))"
   ]
  },
  {
   "cell_type": "code",
   "execution_count": null,
   "metadata": {},
   "outputs": [],
   "source": []
  },
  {
   "cell_type": "code",
   "execution_count": null,
   "metadata": {},
   "outputs": [],
   "source": []
  },
  {
   "cell_type": "code",
   "execution_count": null,
   "metadata": {},
   "outputs": [],
   "source": [
    "«"
   ]
  },
  {
   "cell_type": "code",
   "execution_count": null,
   "metadata": {},
   "outputs": [],
   "source": []
  }
 ],
 "metadata": {
  "kernelspec": {
   "display_name": "Python 3",
   "language": "python",
   "name": "python3"
  },
  "language_info": {
   "codemirror_mode": {
    "name": "ipython",
    "version": 3
   },
   "file_extension": ".py",
   "mimetype": "text/x-python",
   "name": "python",
   "nbconvert_exporter": "python",
   "pygments_lexer": "ipython3",
   "version": "3.8.5"
  }
 },
 "nbformat": 4,
 "nbformat_minor": 4
}
